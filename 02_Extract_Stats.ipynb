{
 "cells": [
  {
   "cell_type": "code",
   "execution_count": null,
   "metadata": {},
   "outputs": [],
   "source": [
    "# https://www.nba.com/stats/player/203999?SeasonType=Regular+Season&PerMode=Per36"
   ]
  },
  {
   "cell_type": "code",
   "execution_count": 11,
   "metadata": {},
   "outputs": [
    {
     "name": "stdout",
     "output_type": "stream",
     "text": [
      "Realizando la solicitud GET para obtener el contenido de la página...\n",
      "Solicitud exitosa. Analizando el contenido de la página...\n",
      "Se encontraron 0 tabla(s) con la clase 'Crom_table__p1iZz'.\n",
      "No se encontraron datos para guardar.\n"
     ]
    }
   ],
   "source": [
    "import requests\n",
    "from bs4 import BeautifulSoup\n",
    "import pandas as pd\n",
    "\n",
    "# URL de la página web que contiene las tablas\n",
    "url = 'https://www.nba.com/stats/player/1630173?SeasonType=Regular+Season&PerMode=Per36'\n",
    "print(\"Realizando la solicitud GET para obtener el contenido de la página...\")\n",
    "response = requests.get(url)\n",
    "\n",
    "# Verificar si la solicitud fue exitosa\n",
    "if response.status_code == 200:\n",
    "    print(\"Solicitud exitosa. Analizando el contenido de la página...\")\n",
    "    soup = BeautifulSoup(response.content, 'html.parser')\n",
    "\n",
    "    # Identificar las tablas en la página\n",
    "    # Cambia 'Crom_table__p1iZz' por el nombre de la clase que ves en tu imagen\n",
    "    tables = soup.find_all('table', class_='Crom_table__p1iZz')\n",
    "    print(f\"Se encontraron {len(tables)} tabla(s) con la clase 'Crom_table__p1iZz'.\")\n",
    "\n",
    "    # Almacenar los datos de las tablas en un DataFrame\n",
    "    dataframes = []\n",
    "    \n",
    "    # Iterar sobre cada tabla encontrada\n",
    "    for i, table in enumerate(tables, start=1):\n",
    "        print(f\"\\nProcesando la tabla {i}...\")\n",
    "        \n",
    "        # Extraer los encabezados de la tabla\n",
    "        headers = [header.text.strip() for header in table.find_all('th')]\n",
    "        print(f\"Encabezados encontrados: {headers}\")\n",
    "        \n",
    "        rows = []\n",
    "        # Extraer las filas de la tabla\n",
    "        for row in table.find_all('tr'):\n",
    "            cells = [cell.text.strip() for cell in row.find_all('td')]\n",
    "            if cells:\n",
    "                rows.append(cells)\n",
    "        \n",
    "        print(f\"Se encontraron {len(rows)} fila(s) en la tabla {i}.\")\n",
    "        \n",
    "        # Verificar si se encontraron filas y encabezados\n",
    "        if rows and headers:\n",
    "            # Crear un DataFrame usando los encabezados y filas\n",
    "            df = pd.DataFrame(rows, columns=headers)\n",
    "            dataframes.append(df)\n",
    "        else:\n",
    "            print(f\"Advertencia: La tabla {i} no contiene datos o encabezados.\")\n",
    "    \n",
    "    # Guardar cada DataFrame en un archivo CSV si hay datos\n",
    "    if dataframes:\n",
    "        for i, df in enumerate(dataframes, start=1):\n",
    "            file_name = f'tabla_{i}.csv'\n",
    "            df.to_csv(file_name, index=False)\n",
    "            print(f\"Datos de la tabla {i} guardados en '{file_name}'.\")\n",
    "        print(\"\\nTodos los datos han sido extraídos y guardados en archivos CSV.\")\n",
    "    else:\n",
    "        print(\"No se encontraron datos para guardar.\")\n",
    "else:\n",
    "    print(f\"Error en la solicitud GET. Código de estado: {response.status_code}\")"
   ]
  },
  {
   "cell_type": "code",
   "execution_count": null,
   "metadata": {},
   "outputs": [],
   "source": []
  },
  {
   "cell_type": "code",
   "execution_count": null,
   "metadata": {},
   "outputs": [],
   "source": []
  },
  {
   "cell_type": "code",
   "execution_count": null,
   "metadata": {},
   "outputs": [],
   "source": []
  }
 ],
 "metadata": {
  "kernelspec": {
   "display_name": ".env",
   "language": "python",
   "name": "python3"
  },
  "language_info": {
   "codemirror_mode": {
    "name": "ipython",
    "version": 3
   },
   "file_extension": ".py",
   "mimetype": "text/x-python",
   "name": "python",
   "nbconvert_exporter": "python",
   "pygments_lexer": "ipython3",
   "version": "3.12.7"
  }
 },
 "nbformat": 4,
 "nbformat_minor": 2
}
