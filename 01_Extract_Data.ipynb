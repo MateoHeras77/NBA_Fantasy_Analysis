{
 "cells": [
  {
   "cell_type": "markdown",
   "metadata": {},
   "source": [
    "# Sources\n",
    " https://github.com/djblechn-su/nba-player-team-ids\n",
    " https://www.nba.com/players"
   ]
  },
  {
   "cell_type": "code",
   "execution_count": 12,
   "metadata": {},
   "outputs": [
    {
     "name": "stdout",
     "output_type": "stream",
     "text": [
      "                                                 url       id  \\\n",
      "0      https://www.nba.com/player/1630546/max-abmas/  1630546   \n",
      "1  https://www.nba.com/player/1630173/precious-ac...  1630173   \n",
      "2    https://www.nba.com/player/203500/steven-adams/   203500   \n",
      "3    https://www.nba.com/player/1628389/bam-adebayo/  1628389   \n",
      "4   https://www.nba.com/player/1630534/ochai-agbaji/  1630534   \n",
      "\n",
      "                name  \n",
      "0         Max Abmas/  \n",
      "1  Precious Achiuwa/  \n",
      "2      Steven Adams/  \n",
      "3       Bam Adebayo/  \n",
      "4      Ochai Agbaji/  \n",
      "Los resultados se han guardado en 'nba_players.csv'\n"
     ]
    }
   ],
   "source": [
    "import re\n",
    "import pandas as pd\n",
    "\n",
    "def extract_nba_player_links(html_content):\n",
    "    # Patrón regex para encontrar los enlaces de los jugadores de la NBA\n",
    "    pattern = r'<a href=\"https://www.nba.com/player/(\\d+)/([^\"]+)\"'\n",
    "    \n",
    "    # Encuentra todas las coincidencias en el contenido HTML\n",
    "    matches = re.findall(pattern, html_content)\n",
    "    \n",
    "    # Crea una lista de diccionarios con la información extraída\n",
    "    data = [\n",
    "        {\n",
    "            \"url\": f\"https://www.nba.com/player/{player_id}/{player_name}\",\n",
    "            \"id\": player_id,\n",
    "            \"name\": player_name.replace('-', ' ').title()\n",
    "        }\n",
    "        for player_id, player_name in matches\n",
    "    ]\n",
    "    \n",
    "    # Crea un DataFrame de pandas con los datos\n",
    "    df = pd.DataFrame(data)\n",
    "    \n",
    "    return df\n",
    "\n",
    "# Leer el contenido del archivo HTML local\n",
    "with open('NBA Roaster.html', 'r', encoding='utf-8') as file:\n",
    "    html_content = file.read()\n",
    "\n",
    "# Extraer la información y crear el DataFrame\n",
    "result_df = extract_nba_player_links(html_content)\n",
    "\n",
    "# Mostrar los primeros resultados\n",
    "print(result_df.head())\n",
    "\n",
    "# Guardar los resultados en un archivo CSV\n",
    "result_df.to_csv('nba_players.csv', index=False)\n",
    "print(\"Los resultados se han guardado en 'nba_players.csv'\")"
   ]
  },
  {
   "cell_type": "code",
   "execution_count": 15,
   "metadata": {},
   "outputs": [
    {
     "data": {
      "text/plain": [
       "(616, 3)"
      ]
     },
     "execution_count": 15,
     "metadata": {},
     "output_type": "execute_result"
    }
   ],
   "source": [
    "result_df.shape"
   ]
  }
 ],
 "metadata": {
  "kernelspec": {
   "display_name": ".env",
   "language": "python",
   "name": "python3"
  },
  "language_info": {
   "codemirror_mode": {
    "name": "ipython",
    "version": 3
   },
   "file_extension": ".py",
   "mimetype": "text/x-python",
   "name": "python",
   "nbconvert_exporter": "python",
   "pygments_lexer": "ipython3",
   "version": "3.12.7"
  }
 },
 "nbformat": 4,
 "nbformat_minor": 2
}
